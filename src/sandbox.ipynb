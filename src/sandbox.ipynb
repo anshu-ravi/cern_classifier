{
 "cells": [
  {
   "cell_type": "code",
   "execution_count": 4,
   "metadata": {},
   "outputs": [],
   "source": [
    "import sys\n",
    "sys.path.append('/mnt/c/Users/ransh/Documents/IE University/Year 5/Sem1/MLOps/cern_classifer/')"
   ]
  },
  {
   "cell_type": "markdown",
   "metadata": {},
   "source": [
    "from loggers.log_factory import setup_logging\n",
    "\n",
    "log = setup_logging(__name__)"
   ]
  },
  {
   "cell_type": "code",
   "execution_count": 10,
   "metadata": {},
   "outputs": [],
   "source": [
    "from click.testing import CliRunner\n",
    "f1 = \"../data/raw/train_collision.csv\"\n",
    "f2 = \"../data/raw/train_main.csv\"\n",
    "f3 = \"../data/interim/train2.csv\"\n",
    "args = [f1, f2, f3]"
   ]
  },
  {
   "cell_type": "code",
   "execution_count": 12,
   "metadata": {},
   "outputs": [
    {
     "name": "stderr",
     "output_type": "stream",
     "text": [
      "2023-10-29 18:46:35,506 [INFO] Loading data from ../data/raw/train_collision.csv - module:data_loader\n"
     ]
    },
    {
     "name": "stderr",
     "output_type": "stream",
     "text": [
      "2023-10-29 18:46:35,548 [INFO] Successfully loaded data from ../data/raw/train_collision.csv - module:data_loader\n",
      "2023-10-29 18:46:35,555 [INFO] Loading data from ../data/raw/train_main.csv - module:data_loader\n",
      "2023-10-29 18:46:35,572 [INFO] Successfully loaded data from ../data/raw/train_main.csv - module:data_loader\n",
      "2023-10-29 18:46:35,573 [INFO] Converting raw data into interim data - module:make_dataset\n",
      "2023-10-29 18:46:35,574 [INFO] Merging data on id - module:make_dataset\n",
      "2023-10-29 18:46:35,580 [INFO] Successfully merged data on id - module:make_dataset\n",
      "2023-10-29 18:46:35,734 [INFO] Successfully saved merged data to ../data/interim/train2.csv - module:make_dataset\n"
     ]
    }
   ],
   "source": [
    "from data.make_dataset import load_data\n",
    "runner = CliRunner()\n",
    "result = runner.invoke(load_data, args)"
   ]
  },
  {
   "cell_type": "code",
   "execution_count": 13,
   "metadata": {},
   "outputs": [],
   "source": [
    "import pandas as pd\n",
    "df = pd.read_csv(f3)"
   ]
  },
  {
   "cell_type": "code",
   "execution_count": 14,
   "metadata": {},
   "outputs": [
    {
     "data": {
      "text/html": [
       "<div>\n",
       "<style scoped>\n",
       "    .dataframe tbody tr th:only-of-type {\n",
       "        vertical-align: middle;\n",
       "    }\n",
       "\n",
       "    .dataframe tbody tr th {\n",
       "        vertical-align: top;\n",
       "    }\n",
       "\n",
       "    .dataframe thead th {\n",
       "        text-align: right;\n",
       "    }\n",
       "</style>\n",
       "<table border=\"1\" class=\"dataframe\">\n",
       "  <thead>\n",
       "    <tr style=\"text-align: right;\">\n",
       "      <th></th>\n",
       "      <th>id</th>\n",
       "      <th>MR</th>\n",
       "      <th>Rsq</th>\n",
       "      <th>E1</th>\n",
       "      <th>Px1</th>\n",
       "      <th>Py1</th>\n",
       "      <th>Pz1</th>\n",
       "      <th>E2</th>\n",
       "      <th>Px2</th>\n",
       "      <th>Py2</th>\n",
       "      <th>Pz2</th>\n",
       "      <th>HT</th>\n",
       "      <th>MET</th>\n",
       "      <th>nBJets</th>\n",
       "      <th>Run</th>\n",
       "      <th>Lumi</th>\n",
       "      <th>Event</th>\n",
       "      <th>jets</th>\n",
       "    </tr>\n",
       "  </thead>\n",
       "  <tbody>\n",
       "    <tr>\n",
       "      <th>0</th>\n",
       "      <td>2389</td>\n",
       "      <td>628.650</td>\n",
       "      <td>0.003689</td>\n",
       "      <td>344.471</td>\n",
       "      <td>1.97683</td>\n",
       "      <td>-106.3260</td>\n",
       "      <td>258.073</td>\n",
       "      <td>355.6340</td>\n",
       "      <td>5.65705</td>\n",
       "      <td>88.32750</td>\n",
       "      <td>-344.20000</td>\n",
       "      <td>211.617</td>\n",
       "      <td>13.65300</td>\n",
       "      <td>0</td>\n",
       "      <td>148029</td>\n",
       "      <td>389</td>\n",
       "      <td>303441833</td>\n",
       "      <td>trijet</td>\n",
       "    </tr>\n",
       "    <tr>\n",
       "      <th>1</th>\n",
       "      <td>9073</td>\n",
       "      <td>238.291</td>\n",
       "      <td>0.018975</td>\n",
       "      <td>270.023</td>\n",
       "      <td>101.12500</td>\n",
       "      <td>46.4665</td>\n",
       "      <td>-245.698</td>\n",
       "      <td>94.0115</td>\n",
       "      <td>-87.19800</td>\n",
       "      <td>-9.75658</td>\n",
       "      <td>-25.68270</td>\n",
       "      <td>199.032</td>\n",
       "      <td>10.47860</td>\n",
       "      <td>0</td>\n",
       "      <td>148029</td>\n",
       "      <td>390</td>\n",
       "      <td>304165218</td>\n",
       "      <td>bijet</td>\n",
       "    </tr>\n",
       "    <tr>\n",
       "      <th>2</th>\n",
       "      <td>7406</td>\n",
       "      <td>1047.610</td>\n",
       "      <td>0.002073</td>\n",
       "      <td>NaN</td>\n",
       "      <td>-57.70030</td>\n",
       "      <td>47.2421</td>\n",
       "      <td>425.894</td>\n",
       "      <td>635.2590</td>\n",
       "      <td>70.86140</td>\n",
       "      <td>-20.33610</td>\n",
       "      <td>-630.79900</td>\n",
       "      <td>226.173</td>\n",
       "      <td>25.82460</td>\n",
       "      <td>0</td>\n",
       "      <td>147926</td>\n",
       "      <td>463</td>\n",
       "      <td>498538334</td>\n",
       "      <td>trijet</td>\n",
       "    </tr>\n",
       "    <tr>\n",
       "      <th>3</th>\n",
       "      <td>2171</td>\n",
       "      <td>227.925</td>\n",
       "      <td>0.002685</td>\n",
       "      <td>155.943</td>\n",
       "      <td>-102.58900</td>\n",
       "      <td>-5.2552</td>\n",
       "      <td>116.311</td>\n",
       "      <td>112.2300</td>\n",
       "      <td>102.59800</td>\n",
       "      <td>4.14457</td>\n",
       "      <td>4.48955</td>\n",
       "      <td>206.631</td>\n",
       "      <td>1.36038</td>\n",
       "      <td>0</td>\n",
       "      <td>149181</td>\n",
       "      <td>1802</td>\n",
       "      <td>1701550882</td>\n",
       "      <td>trijet</td>\n",
       "    </tr>\n",
       "    <tr>\n",
       "      <th>4</th>\n",
       "      <td>12189</td>\n",
       "      <td>207.339</td>\n",
       "      <td>0.039911</td>\n",
       "      <td>158.584</td>\n",
       "      <td>-84.84940</td>\n",
       "      <td>71.5817</td>\n",
       "      <td>-112.407</td>\n",
       "      <td>222.8720</td>\n",
       "      <td>26.13380</td>\n",
       "      <td>-78.36290</td>\n",
       "      <td>-206.39200</td>\n",
       "      <td>193.617</td>\n",
       "      <td>14.76390</td>\n",
       "      <td>0</td>\n",
       "      <td>149181</td>\n",
       "      <td>999</td>\n",
       "      <td>983812818</td>\n",
       "      <td>bijet</td>\n",
       "    </tr>\n",
       "  </tbody>\n",
       "</table>\n",
       "</div>"
      ],
      "text/plain": [
       "      id        MR       Rsq       E1        Px1       Py1      Pz1        E2  \\\n",
       "0   2389   628.650  0.003689  344.471    1.97683 -106.3260  258.073  355.6340   \n",
       "1   9073   238.291  0.018975  270.023  101.12500   46.4665 -245.698   94.0115   \n",
       "2   7406  1047.610  0.002073      NaN  -57.70030   47.2421  425.894  635.2590   \n",
       "3   2171   227.925  0.002685  155.943 -102.58900   -5.2552  116.311  112.2300   \n",
       "4  12189   207.339  0.039911  158.584  -84.84940   71.5817 -112.407  222.8720   \n",
       "\n",
       "         Px2       Py2        Pz2       HT       MET  nBJets     Run  Lumi  \\\n",
       "0    5.65705  88.32750 -344.20000  211.617  13.65300       0  148029   389   \n",
       "1  -87.19800  -9.75658  -25.68270  199.032  10.47860       0  148029   390   \n",
       "2   70.86140 -20.33610 -630.79900  226.173  25.82460       0  147926   463   \n",
       "3  102.59800   4.14457    4.48955  206.631   1.36038       0  149181  1802   \n",
       "4   26.13380 -78.36290 -206.39200  193.617  14.76390       0  149181   999   \n",
       "\n",
       "        Event    jets  \n",
       "0   303441833  trijet  \n",
       "1   304165218   bijet  \n",
       "2   498538334  trijet  \n",
       "3  1701550882  trijet  \n",
       "4   983812818   bijet  "
      ]
     },
     "execution_count": 14,
     "metadata": {},
     "output_type": "execute_result"
    }
   ],
   "source": [
    "df.head()"
   ]
  },
  {
   "cell_type": "code",
   "execution_count": 15,
   "metadata": {},
   "outputs": [
    {
     "name": "stderr",
     "output_type": "stream",
     "text": [
      "2023-10-29 18:46:49,990 [INFO] Starting data cleaning... - module:data_cleaning\n",
      "2023-10-29 18:46:50,001 [INFO] Fitting SimpleImputer to data... - module:data_cleaning\n",
      "2023-10-29 18:46:50,041 [INFO] Data cleaning completed successfully. - module:data_cleaning\n"
     ]
    }
   ],
   "source": [
    "from src.preprocessing.data_cleaning import clean_data\n",
    "df_cleaned = clean_data(df)"
   ]
  },
  {
   "cell_type": "code",
   "execution_count": 16,
   "metadata": {},
   "outputs": [
    {
     "name": "stderr",
     "output_type": "stream",
     "text": [
      "2023-10-29 18:47:00,616 [INFO] Running feature engineering. - module:build_features\n",
      "2023-10-29 18:47:00,619 [INFO] Creating buckets for train data. - module:build_features\n",
      "2023-10-29 18:47:00,647 [INFO] Converting columns to categorical for train data. - module:build_features\n",
      "2023-10-29 18:47:00,682 [INFO] Successfully factorized \"jets\" column. - module:build_features\n",
      "2023-10-29 18:47:00,705 [INFO] Feature engineering complete. - module:build_features\n"
     ]
    }
   ],
   "source": [
    "from src.features.build_features import run_fe\n",
    "col_to_bucket = ['Lumi']\n",
    "cols_to_encode = ['Run', 'nBJets', 'Lumi']\n",
    "df_fe = run_fe(df_cleaned, col_to_bucket, cols_to_encode)"
   ]
  },
  {
   "cell_type": "code",
   "execution_count": 8,
   "metadata": {},
   "outputs": [
    {
     "name": "stderr",
     "output_type": "stream",
     "text": [
      "2023-10-29 15:39:16,642 [INFO] Starting model building process... - module:train_model\n",
      "2023-10-29 15:39:16,649 [INFO] Data split into train and validation sets. Train set size: 10334. Validation set size: 2584 - module:train_model\n",
      "2023-10-29 15:39:16,667 [INFO] Training data scaled successfully. - module:train_model\n",
      "2023-10-29 15:39:16,686 [INFO] Test data scaled successfully. - module:train_model\n",
      "2023-10-29 15:39:35,608 [INFO] Random forest classifier trained successfully. - module:train_model\n",
      "2023-10-29 15:39:35,852 [INFO] Classification report:\n",
      "              precision    recall  f1-score   support\n",
      "\n",
      "           0       0.64      0.47      0.54       775\n",
      "           1       0.78      0.94      0.86      1654\n",
      "           2       0.60      0.10      0.17       155\n",
      "\n",
      "    accuracy                           0.75      2584\n",
      "   macro avg       0.67      0.50      0.52      2584\n",
      "weighted avg       0.73      0.75      0.72      2584\n",
      " - module:train_model\n",
      "2023-10-29 15:39:35,882 [INFO] Model evaluated successfully. Classification report and metrics saved to reports folder. - module:train_model\n",
      "2023-10-29 15:39:35,883 [INFO] Model building process completed successfully. - module:train_model\n",
      "2023-10-29 15:39:35,883 [INFO] Starting model improvement process... - module:train_model\n"
     ]
    },
    {
     "name": "stdout",
     "output_type": "stream",
     "text": [
      "Fitting 5 folds for each of 36 candidates, totalling 180 fits\n"
     ]
    },
    {
     "name": "stderr",
     "output_type": "stream",
     "text": [
      "2023-10-29 15:48:33,559 [INFO] Best parameters found: {'max_depth': 30, 'min_samples_leaf': 1, 'min_samples_split': 2} with accuracy: 0.7575975863743676 - module:train_model\n",
      "2023-10-29 15:48:33,560 [INFO] Model improvement process completed successfully. Storing model... - module:train_model\n"
     ]
    }
   ],
   "source": [
    "from src.models.train_model import build_model\n",
    "model = build_model(df_fe, 'jets')"
   ]
  },
  {
   "cell_type": "code",
   "execution_count": 2,
   "metadata": {},
   "outputs": [
    {
     "name": "stderr",
     "output_type": "stream",
     "text": [
      "2023-10-31 11:53:36,775 [ERROR] Error: File path ./temp.csv does not exist - module:data_loader\n"
     ]
    },
    {
     "name": "stdout",
     "output_type": "stream",
     "text": [
      "/mnt/c/Users/ransh/Documents/IE University/Year 5/Sem1/MLOps/cern_classifer/src\n"
     ]
    },
    {
     "ename": "FileNotFoundError",
     "evalue": "",
     "output_type": "error",
     "traceback": [
      "\u001b[0;31m---------------------------------------------------------------------------\u001b[0m",
      "\u001b[0;31mFileNotFoundError\u001b[0m                         Traceback (most recent call last)",
      "\u001b[1;32m/mnt/c/Users/ransh/Documents/IE University/Year 5/Sem1/MLOps/cern_classifer/src/sandbox.ipynb Cell 10\u001b[0m line \u001b[0;36m3\n\u001b[1;32m      <a href='vscode-notebook-cell://wsl%2Bubuntu/mnt/c/Users/ransh/Documents/IE%20University/Year%205/Sem1/MLOps/cern_classifer/src/sandbox.ipynb#X12sdnNjb2RlLXJlbW90ZQ%3D%3D?line=0'>1</a>\u001b[0m \u001b[39mfrom\u001b[39;00m \u001b[39mloader\u001b[39;00m\u001b[39m.\u001b[39;00m\u001b[39mdata_loader\u001b[39;00m \u001b[39mimport\u001b[39;00m data_loader\n\u001b[0;32m----> <a href='vscode-notebook-cell://wsl%2Bubuntu/mnt/c/Users/ransh/Documents/IE%20University/Year%205/Sem1/MLOps/cern_classifer/src/sandbox.ipynb#X12sdnNjb2RlLXJlbW90ZQ%3D%3D?line=2'>3</a>\u001b[0m data_loader(\u001b[39m'\u001b[39;49m\u001b[39m./temp.csv\u001b[39;49m\u001b[39m'\u001b[39;49m)\n",
      "File \u001b[0;32m/mnt/c/Users/ransh/Documents/IE University/Year 5/Sem1/MLOps/cern_classifer/src/loader/data_loader.py:26\u001b[0m, in \u001b[0;36mdata_loader\u001b[0;34m(file_path)\u001b[0m\n\u001b[1;32m     23\u001b[0m \u001b[39mtry\u001b[39;00m:\n\u001b[1;32m     24\u001b[0m     \u001b[39mif\u001b[39;00m \u001b[39mnot\u001b[39;00m os\u001b[39m.\u001b[39mpath\u001b[39m.\u001b[39mexists(file_path):\n\u001b[1;32m     25\u001b[0m         \u001b[39m# logging.error(f\"Error: File path {file_path} does not exist\")\u001b[39;00m\n\u001b[0;32m---> 26\u001b[0m         \u001b[39mraise\u001b[39;00m \u001b[39mFileNotFoundError\u001b[39;00m()\n\u001b[1;32m     28\u001b[0m     logging\u001b[39m.\u001b[39minfo(\u001b[39mf\u001b[39m\u001b[39m\"\u001b[39m\u001b[39mLoading data from \u001b[39m\u001b[39m{\u001b[39;00mfile_path\u001b[39m}\u001b[39;00m\u001b[39m\"\u001b[39m)\n\u001b[1;32m     30\u001b[0m     file_extension \u001b[39m=\u001b[39m os\u001b[39m.\u001b[39mpath\u001b[39m.\u001b[39msplitext(file_path)[\u001b[39m1\u001b[39m]\n",
      "\u001b[0;31mFileNotFoundError\u001b[0m: "
     ]
    }
   ],
   "source": [
    "from loader.data_loader import data_loader\n",
    "\n",
    "data_loader('./temp.csv')"
   ]
  },
  {
   "cell_type": "code",
   "execution_count": null,
   "metadata": {},
   "outputs": [],
   "source": []
  }
 ],
 "metadata": {
  "kernelspec": {
   "display_name": "ak",
   "language": "python",
   "name": "python3"
  },
  "language_info": {
   "codemirror_mode": {
    "name": "ipython",
    "version": 3
   },
   "file_extension": ".py",
   "mimetype": "text/x-python",
   "name": "python",
   "nbconvert_exporter": "python",
   "pygments_lexer": "ipython3",
   "version": "3.9.18"
  }
 },
 "nbformat": 4,
 "nbformat_minor": 2
}
