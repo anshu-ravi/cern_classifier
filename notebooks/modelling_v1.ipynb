{
 "cells": [
  {
   "cell_type": "code",
   "execution_count": 1,
   "id": "45332c05",
   "metadata": {},
   "outputs": [],
   "source": [
    "# Importing the libraries\n",
    "import pandas as pd\n",
    "import numpy as np \n",
    "from sklearn.impute import SimpleImputer\n",
    "import os\n",
    "import matplotlib.pyplot as plt\n",
    "from pickle import dump, load\n",
    "\n",
    "%matplotlib inline"
   ]
  },
  {
   "cell_type": "code",
   "execution_count": 2,
   "id": "41b06485",
   "metadata": {},
   "outputs": [],
   "source": [
    "# Setting up directory paths\n",
    "base_dir = \"/mnt/c/Users/ransh/Documents/IE University/Year 5/Sem1/MLOps/cern_classifer/\"\n",
    "data_dir = 'data/raw/'\n",
    "\n",
    "# Changing the working directory \n",
    "os.chdir(base_dir)\n"
   ]
  },
  {
   "cell_type": "code",
   "execution_count": 3,
   "id": "ae2ee172",
   "metadata": {},
   "outputs": [],
   "source": [
    "# Importing the Data \n",
    "train_main = pd.read_csv(data_dir + 'train_main.csv')\n",
    "train_collision = pd.read_csv(data_dir + 'train_collision.csv')\n",
    "\n",
    "test_main = pd.read_csv(data_dir + 'test_main.csv')\n",
    "test_collision = pd.read_csv(data_dir + 'test_collision.csv')"
   ]
  },
  {
   "cell_type": "code",
   "execution_count": 4,
   "id": "bbe4ba89",
   "metadata": {},
   "outputs": [
    {
     "name": "stdout",
     "output_type": "stream",
     "text": [
      "The Main train dataset has a shape of (12918, 5)\n",
      "The collision train dataset has a shape of (12918, 14)\n",
      "\n",
      "The Main test dataset has a shape of (8613, 4)\n",
      "The collision test dataset has a shape of (8613, 14)\n"
     ]
    }
   ],
   "source": [
    "print(f'The Main train dataset has a shape of {train_main.shape}')\n",
    "print(f'The collision train dataset has a shape of {train_collision.shape}')\n",
    "\n",
    "print(f'\\nThe Main test dataset has a shape of {test_main.shape}')\n",
    "print(f'The collision test dataset has a shape of {test_collision.shape}')"
   ]
  },
  {
   "cell_type": "code",
   "execution_count": 5,
   "id": "0d68fa35",
   "metadata": {},
   "outputs": [
    {
     "data": {
      "text/html": [
       "<div>\n",
       "<style scoped>\n",
       "    .dataframe tbody tr th:only-of-type {\n",
       "        vertical-align: middle;\n",
       "    }\n",
       "\n",
       "    .dataframe tbody tr th {\n",
       "        vertical-align: top;\n",
       "    }\n",
       "\n",
       "    .dataframe thead th {\n",
       "        text-align: right;\n",
       "    }\n",
       "</style>\n",
       "<table border=\"1\" class=\"dataframe\">\n",
       "  <thead>\n",
       "    <tr style=\"text-align: right;\">\n",
       "      <th></th>\n",
       "      <th>id</th>\n",
       "      <th>Run</th>\n",
       "      <th>Lumi</th>\n",
       "      <th>Event</th>\n",
       "      <th>jets</th>\n",
       "    </tr>\n",
       "  </thead>\n",
       "  <tbody>\n",
       "    <tr>\n",
       "      <th>0</th>\n",
       "      <td>1</td>\n",
       "      <td>147926</td>\n",
       "      <td>463</td>\n",
       "      <td>499379866</td>\n",
       "      <td>trijet</td>\n",
       "    </tr>\n",
       "    <tr>\n",
       "      <th>1</th>\n",
       "      <td>2</td>\n",
       "      <td>147926</td>\n",
       "      <td>466</td>\n",
       "      <td>502201110</td>\n",
       "      <td>trijet</td>\n",
       "    </tr>\n",
       "    <tr>\n",
       "      <th>2</th>\n",
       "      <td>3</td>\n",
       "      <td>149181</td>\n",
       "      <td>992</td>\n",
       "      <td>977223571</td>\n",
       "      <td>tetrajet</td>\n",
       "    </tr>\n",
       "    <tr>\n",
       "      <th>3</th>\n",
       "      <td>4</td>\n",
       "      <td>149181</td>\n",
       "      <td>1802</td>\n",
       "      <td>1701566563</td>\n",
       "      <td>bijet</td>\n",
       "    </tr>\n",
       "    <tr>\n",
       "      <th>4</th>\n",
       "      <td>5</td>\n",
       "      <td>148029</td>\n",
       "      <td>395</td>\n",
       "      <td>307976436</td>\n",
       "      <td>tetrajet</td>\n",
       "    </tr>\n",
       "  </tbody>\n",
       "</table>\n",
       "</div>"
      ],
      "text/plain": [
       "   id     Run  Lumi       Event      jets\n",
       "0   1  147926   463   499379866    trijet\n",
       "1   2  147926   466   502201110    trijet\n",
       "2   3  149181   992   977223571  tetrajet\n",
       "3   4  149181  1802  1701566563     bijet\n",
       "4   5  148029   395   307976436  tetrajet"
      ]
     },
     "execution_count": 5,
     "metadata": {},
     "output_type": "execute_result"
    }
   ],
   "source": [
    "train_main.head() "
   ]
  },
  {
   "cell_type": "code",
   "execution_count": 6,
   "id": "258c19d6",
   "metadata": {},
   "outputs": [
    {
     "data": {
      "text/html": [
       "<div>\n",
       "<style scoped>\n",
       "    .dataframe tbody tr th:only-of-type {\n",
       "        vertical-align: middle;\n",
       "    }\n",
       "\n",
       "    .dataframe tbody tr th {\n",
       "        vertical-align: top;\n",
       "    }\n",
       "\n",
       "    .dataframe thead th {\n",
       "        text-align: right;\n",
       "    }\n",
       "</style>\n",
       "<table border=\"1\" class=\"dataframe\">\n",
       "  <thead>\n",
       "    <tr style=\"text-align: right;\">\n",
       "      <th></th>\n",
       "      <th>id</th>\n",
       "      <th>MR</th>\n",
       "      <th>Rsq</th>\n",
       "      <th>E1</th>\n",
       "      <th>Px1</th>\n",
       "      <th>Py1</th>\n",
       "      <th>Pz1</th>\n",
       "      <th>E2</th>\n",
       "      <th>Px2</th>\n",
       "      <th>Py2</th>\n",
       "      <th>Pz2</th>\n",
       "      <th>HT</th>\n",
       "      <th>MET</th>\n",
       "      <th>nBJets</th>\n",
       "    </tr>\n",
       "  </thead>\n",
       "  <tbody>\n",
       "    <tr>\n",
       "      <th>0</th>\n",
       "      <td>2389</td>\n",
       "      <td>628.650</td>\n",
       "      <td>0.003689</td>\n",
       "      <td>344.471</td>\n",
       "      <td>1.97683</td>\n",
       "      <td>-106.3260</td>\n",
       "      <td>258.073</td>\n",
       "      <td>355.6340</td>\n",
       "      <td>5.65705</td>\n",
       "      <td>88.32750</td>\n",
       "      <td>-344.20000</td>\n",
       "      <td>211.617</td>\n",
       "      <td>13.65300</td>\n",
       "      <td>0</td>\n",
       "    </tr>\n",
       "    <tr>\n",
       "      <th>1</th>\n",
       "      <td>9073</td>\n",
       "      <td>238.291</td>\n",
       "      <td>0.018975</td>\n",
       "      <td>270.023</td>\n",
       "      <td>101.12500</td>\n",
       "      <td>46.4665</td>\n",
       "      <td>-245.698</td>\n",
       "      <td>94.0115</td>\n",
       "      <td>-87.19800</td>\n",
       "      <td>-9.75658</td>\n",
       "      <td>-25.68270</td>\n",
       "      <td>199.032</td>\n",
       "      <td>10.47860</td>\n",
       "      <td>0</td>\n",
       "    </tr>\n",
       "    <tr>\n",
       "      <th>2</th>\n",
       "      <td>7406</td>\n",
       "      <td>1047.610</td>\n",
       "      <td>0.002073</td>\n",
       "      <td>NaN</td>\n",
       "      <td>-57.70030</td>\n",
       "      <td>47.2421</td>\n",
       "      <td>425.894</td>\n",
       "      <td>635.2590</td>\n",
       "      <td>70.86140</td>\n",
       "      <td>-20.33610</td>\n",
       "      <td>-630.79900</td>\n",
       "      <td>226.173</td>\n",
       "      <td>25.82460</td>\n",
       "      <td>0</td>\n",
       "    </tr>\n",
       "    <tr>\n",
       "      <th>3</th>\n",
       "      <td>2171</td>\n",
       "      <td>227.925</td>\n",
       "      <td>0.002685</td>\n",
       "      <td>155.943</td>\n",
       "      <td>-102.58900</td>\n",
       "      <td>-5.2552</td>\n",
       "      <td>116.311</td>\n",
       "      <td>112.2300</td>\n",
       "      <td>102.59800</td>\n",
       "      <td>4.14457</td>\n",
       "      <td>4.48955</td>\n",
       "      <td>206.631</td>\n",
       "      <td>1.36038</td>\n",
       "      <td>0</td>\n",
       "    </tr>\n",
       "    <tr>\n",
       "      <th>4</th>\n",
       "      <td>12189</td>\n",
       "      <td>207.339</td>\n",
       "      <td>0.039911</td>\n",
       "      <td>158.584</td>\n",
       "      <td>-84.84940</td>\n",
       "      <td>71.5817</td>\n",
       "      <td>-112.407</td>\n",
       "      <td>222.8720</td>\n",
       "      <td>26.13380</td>\n",
       "      <td>-78.36290</td>\n",
       "      <td>-206.39200</td>\n",
       "      <td>193.617</td>\n",
       "      <td>14.76390</td>\n",
       "      <td>0</td>\n",
       "    </tr>\n",
       "  </tbody>\n",
       "</table>\n",
       "</div>"
      ],
      "text/plain": [
       "      id        MR       Rsq       E1        Px1       Py1      Pz1        E2  \\\n",
       "0   2389   628.650  0.003689  344.471    1.97683 -106.3260  258.073  355.6340   \n",
       "1   9073   238.291  0.018975  270.023  101.12500   46.4665 -245.698   94.0115   \n",
       "2   7406  1047.610  0.002073      NaN  -57.70030   47.2421  425.894  635.2590   \n",
       "3   2171   227.925  0.002685  155.943 -102.58900   -5.2552  116.311  112.2300   \n",
       "4  12189   207.339  0.039911  158.584  -84.84940   71.5817 -112.407  222.8720   \n",
       "\n",
       "         Px2       Py2        Pz2       HT       MET  nBJets  \n",
       "0    5.65705  88.32750 -344.20000  211.617  13.65300       0  \n",
       "1  -87.19800  -9.75658  -25.68270  199.032  10.47860       0  \n",
       "2   70.86140 -20.33610 -630.79900  226.173  25.82460       0  \n",
       "3  102.59800   4.14457    4.48955  206.631   1.36038       0  \n",
       "4   26.13380 -78.36290 -206.39200  193.617  14.76390       0  "
      ]
     },
     "execution_count": 6,
     "metadata": {},
     "output_type": "execute_result"
    }
   ],
   "source": [
    "train_collision.head()"
   ]
  },
  {
   "cell_type": "code",
   "execution_count": 7,
   "id": "c381a1ad",
   "metadata": {},
   "outputs": [
    {
     "data": {
      "text/html": [
       "<div>\n",
       "<style scoped>\n",
       "    .dataframe tbody tr th:only-of-type {\n",
       "        vertical-align: middle;\n",
       "    }\n",
       "\n",
       "    .dataframe tbody tr th {\n",
       "        vertical-align: top;\n",
       "    }\n",
       "\n",
       "    .dataframe thead th {\n",
       "        text-align: right;\n",
       "    }\n",
       "</style>\n",
       "<table border=\"1\" class=\"dataframe\">\n",
       "  <thead>\n",
       "    <tr style=\"text-align: right;\">\n",
       "      <th></th>\n",
       "      <th>id</th>\n",
       "      <th>Run</th>\n",
       "      <th>Lumi</th>\n",
       "      <th>Event</th>\n",
       "    </tr>\n",
       "  </thead>\n",
       "  <tbody>\n",
       "    <tr>\n",
       "      <th>0</th>\n",
       "      <td>12919</td>\n",
       "      <td>149181</td>\n",
       "      <td>986</td>\n",
       "      <td>970832428</td>\n",
       "    </tr>\n",
       "    <tr>\n",
       "      <th>1</th>\n",
       "      <td>12920</td>\n",
       "      <td>148029</td>\n",
       "      <td>388</td>\n",
       "      <td>302823375</td>\n",
       "    </tr>\n",
       "    <tr>\n",
       "      <th>2</th>\n",
       "      <td>12921</td>\n",
       "      <td>147926</td>\n",
       "      <td>465</td>\n",
       "      <td>500653165</td>\n",
       "    </tr>\n",
       "    <tr>\n",
       "      <th>3</th>\n",
       "      <td>12922</td>\n",
       "      <td>149181</td>\n",
       "      <td>998</td>\n",
       "      <td>982740964</td>\n",
       "    </tr>\n",
       "    <tr>\n",
       "      <th>4</th>\n",
       "      <td>12923</td>\n",
       "      <td>149181</td>\n",
       "      <td>999</td>\n",
       "      <td>983919377</td>\n",
       "    </tr>\n",
       "  </tbody>\n",
       "</table>\n",
       "</div>"
      ],
      "text/plain": [
       "      id     Run  Lumi      Event\n",
       "0  12919  149181   986  970832428\n",
       "1  12920  148029   388  302823375\n",
       "2  12921  147926   465  500653165\n",
       "3  12922  149181   998  982740964\n",
       "4  12923  149181   999  983919377"
      ]
     },
     "execution_count": 7,
     "metadata": {},
     "output_type": "execute_result"
    }
   ],
   "source": [
    "test_main.head() "
   ]
  },
  {
   "cell_type": "code",
   "execution_count": 8,
   "id": "705eb564",
   "metadata": {},
   "outputs": [
    {
     "data": {
      "text/html": [
       "<div>\n",
       "<style scoped>\n",
       "    .dataframe tbody tr th:only-of-type {\n",
       "        vertical-align: middle;\n",
       "    }\n",
       "\n",
       "    .dataframe tbody tr th {\n",
       "        vertical-align: top;\n",
       "    }\n",
       "\n",
       "    .dataframe thead th {\n",
       "        text-align: right;\n",
       "    }\n",
       "</style>\n",
       "<table border=\"1\" class=\"dataframe\">\n",
       "  <thead>\n",
       "    <tr style=\"text-align: right;\">\n",
       "      <th></th>\n",
       "      <th>id</th>\n",
       "      <th>MR</th>\n",
       "      <th>Rsq</th>\n",
       "      <th>E1</th>\n",
       "      <th>Px1</th>\n",
       "      <th>Py1</th>\n",
       "      <th>Pz1</th>\n",
       "      <th>E2</th>\n",
       "      <th>Px2</th>\n",
       "      <th>Py2</th>\n",
       "      <th>Pz2</th>\n",
       "      <th>HT</th>\n",
       "      <th>MET</th>\n",
       "      <th>nBJets</th>\n",
       "    </tr>\n",
       "  </thead>\n",
       "  <tbody>\n",
       "    <tr>\n",
       "      <th>0</th>\n",
       "      <td>21519</td>\n",
       "      <td>413.358</td>\n",
       "      <td>0.007247</td>\n",
       "      <td>303.461</td>\n",
       "      <td>129.245</td>\n",
       "      <td>-88.8368</td>\n",
       "      <td>259.134</td>\n",
       "      <td>162.125</td>\n",
       "      <td>-139.8620</td>\n",
       "      <td>58.7003</td>\n",
       "      <td>-50.84160</td>\n",
       "      <td>308.513</td>\n",
       "      <td>7.95099</td>\n",
       "      <td>0</td>\n",
       "    </tr>\n",
       "    <tr>\n",
       "      <th>1</th>\n",
       "      <td>17571</td>\n",
       "      <td>433.400</td>\n",
       "      <td>0.012239</td>\n",
       "      <td>586.030</td>\n",
       "      <td>-158.880</td>\n",
       "      <td>-156.0780</td>\n",
       "      <td>541.144</td>\n",
       "      <td>293.401</td>\n",
       "      <td>131.9080</td>\n",
       "      <td>133.0470</td>\n",
       "      <td>205.13400</td>\n",
       "      <td>421.112</td>\n",
       "      <td>10.32080</td>\n",
       "      <td>0</td>\n",
       "    </tr>\n",
       "    <tr>\n",
       "      <th>2</th>\n",
       "      <td>14067</td>\n",
       "      <td>727.283</td>\n",
       "      <td>0.005070</td>\n",
       "      <td>222.582</td>\n",
       "      <td>135.759</td>\n",
       "      <td>-33.9291</td>\n",
       "      <td>-171.341</td>\n",
       "      <td>687.033</td>\n",
       "      <td>-121.4970</td>\n",
       "      <td>44.5075</td>\n",
       "      <td>619.90500</td>\n",
       "      <td>350.553</td>\n",
       "      <td>18.73220</td>\n",
       "      <td>0</td>\n",
       "    </tr>\n",
       "    <tr>\n",
       "      <th>3</th>\n",
       "      <td>21109</td>\n",
       "      <td>264.239</td>\n",
       "      <td>0.011179</td>\n",
       "      <td>621.691</td>\n",
       "      <td>58.944</td>\n",
       "      <td>-51.0865</td>\n",
       "      <td>-595.472</td>\n",
       "      <td>50.216</td>\n",
       "      <td>-35.3176</td>\n",
       "      <td>34.8864</td>\n",
       "      <td>1.36373</td>\n",
       "      <td>216.692</td>\n",
       "      <td>15.76590</td>\n",
       "      <td>0</td>\n",
       "    </tr>\n",
       "    <tr>\n",
       "      <th>4</th>\n",
       "      <td>20966</td>\n",
       "      <td>252.714</td>\n",
       "      <td>0.043178</td>\n",
       "      <td>256.421</td>\n",
       "      <td>-92.690</td>\n",
       "      <td>-86.8980</td>\n",
       "      <td>-222.060</td>\n",
       "      <td>379.302</td>\n",
       "      <td>71.1955</td>\n",
       "      <td>93.5246</td>\n",
       "      <td>-360.36800</td>\n",
       "      <td>244.594</td>\n",
       "      <td>21.02260</td>\n",
       "      <td>0</td>\n",
       "    </tr>\n",
       "  </tbody>\n",
       "</table>\n",
       "</div>"
      ],
      "text/plain": [
       "      id       MR       Rsq       E1      Px1       Py1      Pz1       E2  \\\n",
       "0  21519  413.358  0.007247  303.461  129.245  -88.8368  259.134  162.125   \n",
       "1  17571  433.400  0.012239  586.030 -158.880 -156.0780  541.144  293.401   \n",
       "2  14067  727.283  0.005070  222.582  135.759  -33.9291 -171.341  687.033   \n",
       "3  21109  264.239  0.011179  621.691   58.944  -51.0865 -595.472   50.216   \n",
       "4  20966  252.714  0.043178  256.421  -92.690  -86.8980 -222.060  379.302   \n",
       "\n",
       "        Px2       Py2        Pz2       HT       MET  nBJets  \n",
       "0 -139.8620   58.7003  -50.84160  308.513   7.95099       0  \n",
       "1  131.9080  133.0470  205.13400  421.112  10.32080       0  \n",
       "2 -121.4970   44.5075  619.90500  350.553  18.73220       0  \n",
       "3  -35.3176   34.8864    1.36373  216.692  15.76590       0  \n",
       "4   71.1955   93.5246 -360.36800  244.594  21.02260       0  "
      ]
     },
     "execution_count": 8,
     "metadata": {},
     "output_type": "execute_result"
    }
   ],
   "source": [
    "test_collision.head()"
   ]
  },
  {
   "cell_type": "markdown",
   "id": "f522f1db",
   "metadata": {},
   "source": [
    "1. Data Joining"
   ]
  },
  {
   "cell_type": "code",
   "execution_count": 9,
   "id": "cc5ceb11",
   "metadata": {},
   "outputs": [],
   "source": [
    "# Merging the train dataset based on the id column\n",
    "all_train = pd.merge(train_main, train_collision, on='id')\n",
    "all_train.head()\n",
    "all_train.to_csv(\"data/interim/train.csv\", index=False)"
   ]
  },
  {
   "cell_type": "code",
   "execution_count": 10,
   "id": "3376d23c",
   "metadata": {},
   "outputs": [],
   "source": [
    "# Merging the test dataset based on the id column\n",
    "all_test = pd.merge(test_main, test_collision, on='id')\n",
    "all_test.head()\n",
    "all_test.to_csv(\"data/interim/test.csv\", index=False)"
   ]
  },
  {
   "cell_type": "markdown",
   "id": "d69ac658",
   "metadata": {},
   "source": [
    "2. Data Exploration"
   ]
  },
  {
   "cell_type": "code",
   "execution_count": 11,
   "id": "886af92a",
   "metadata": {},
   "outputs": [
    {
     "name": "stdout",
     "output_type": "stream",
     "text": [
      "<class 'pandas.core.frame.DataFrame'>\n",
      "RangeIndex: 12918 entries, 0 to 12917\n",
      "Data columns (total 18 columns):\n",
      " #   Column  Non-Null Count  Dtype  \n",
      "---  ------  --------------  -----  \n",
      " 0   id      12918 non-null  int64  \n",
      " 1   Run     12918 non-null  int64  \n",
      " 2   Lumi    12918 non-null  int64  \n",
      " 3   Event   12918 non-null  int64  \n",
      " 4   jets    12918 non-null  object \n",
      " 5   MR      10335 non-null  float64\n",
      " 6   Rsq     12918 non-null  float64\n",
      " 7   E1      11627 non-null  float64\n",
      " 8   Px1     12918 non-null  float64\n",
      " 9   Py1     12918 non-null  float64\n",
      " 10  Pz1     12918 non-null  float64\n",
      " 11  E2      12918 non-null  float64\n",
      " 12  Px2     12918 non-null  float64\n",
      " 13  Py2     12918 non-null  float64\n",
      " 14  Pz2     12918 non-null  float64\n",
      " 15  HT      12918 non-null  float64\n",
      " 16  MET     12918 non-null  float64\n",
      " 17  nBJets  12918 non-null  int64  \n",
      "dtypes: float64(12), int64(5), object(1)\n",
      "memory usage: 1.8+ MB\n"
     ]
    }
   ],
   "source": [
    "all_train.info()"
   ]
  },
  {
   "cell_type": "code",
   "execution_count": 12,
   "id": "61a3c0f6",
   "metadata": {},
   "outputs": [
    {
     "data": {
      "text/html": [
       "<div>\n",
       "<style scoped>\n",
       "    .dataframe tbody tr th:only-of-type {\n",
       "        vertical-align: middle;\n",
       "    }\n",
       "\n",
       "    .dataframe tbody tr th {\n",
       "        vertical-align: top;\n",
       "    }\n",
       "\n",
       "    .dataframe thead th {\n",
       "        text-align: right;\n",
       "    }\n",
       "</style>\n",
       "<table border=\"1\" class=\"dataframe\">\n",
       "  <thead>\n",
       "    <tr style=\"text-align: right;\">\n",
       "      <th></th>\n",
       "      <th>id</th>\n",
       "      <th>Run</th>\n",
       "      <th>Lumi</th>\n",
       "      <th>Event</th>\n",
       "      <th>MR</th>\n",
       "      <th>Rsq</th>\n",
       "      <th>E1</th>\n",
       "      <th>Px1</th>\n",
       "      <th>Py1</th>\n",
       "      <th>Pz1</th>\n",
       "      <th>E2</th>\n",
       "      <th>Px2</th>\n",
       "      <th>Py2</th>\n",
       "      <th>Pz2</th>\n",
       "      <th>HT</th>\n",
       "      <th>MET</th>\n",
       "      <th>nBJets</th>\n",
       "    </tr>\n",
       "  </thead>\n",
       "  <tbody>\n",
       "    <tr>\n",
       "      <th>count</th>\n",
       "      <td>12918.000000</td>\n",
       "      <td>12918.000000</td>\n",
       "      <td>12918.000000</td>\n",
       "      <td>1.291800e+04</td>\n",
       "      <td>10335.000000</td>\n",
       "      <td>12918.000000</td>\n",
       "      <td>11627.000000</td>\n",
       "      <td>12918.000000</td>\n",
       "      <td>12918.000000</td>\n",
       "      <td>12918.000000</td>\n",
       "      <td>12918.000000</td>\n",
       "      <td>12918.000000</td>\n",
       "      <td>12918.000000</td>\n",
       "      <td>12918.000000</td>\n",
       "      <td>12918.00000</td>\n",
       "      <td>12918.000000</td>\n",
       "      <td>12918.000000</td>\n",
       "    </tr>\n",
       "    <tr>\n",
       "      <th>mean</th>\n",
       "      <td>6459.500000</td>\n",
       "      <td>148666.467023</td>\n",
       "      <td>900.238350</td>\n",
       "      <td>8.630379e+08</td>\n",
       "      <td>347.854846</td>\n",
       "      <td>0.023484</td>\n",
       "      <td>293.569329</td>\n",
       "      <td>-0.708367</td>\n",
       "      <td>0.678810</td>\n",
       "      <td>-10.904041</td>\n",
       "      <td>275.598779</td>\n",
       "      <td>0.344767</td>\n",
       "      <td>-0.911184</td>\n",
       "      <td>-1.341925</td>\n",
       "      <td>239.86144</td>\n",
       "      <td>15.934446</td>\n",
       "      <td>0.055117</td>\n",
       "    </tr>\n",
       "    <tr>\n",
       "      <th>std</th>\n",
       "      <td>3729.249723</td>\n",
       "      <td>595.880402</td>\n",
       "      <td>496.162612</td>\n",
       "      <td>4.785053e+08</td>\n",
       "      <td>189.854140</td>\n",
       "      <td>0.023320</td>\n",
       "      <td>221.136545</td>\n",
       "      <td>90.680332</td>\n",
       "      <td>90.189393</td>\n",
       "      <td>337.760002</td>\n",
       "      <td>207.764762</td>\n",
       "      <td>75.845564</td>\n",
       "      <td>75.034815</td>\n",
       "      <td>321.458725</td>\n",
       "      <td>74.43428</td>\n",
       "      <td>10.846317</td>\n",
       "      <td>0.239473</td>\n",
       "    </tr>\n",
       "    <tr>\n",
       "      <th>min</th>\n",
       "      <td>1.000000</td>\n",
       "      <td>147926.000000</td>\n",
       "      <td>388.000000</td>\n",
       "      <td>3.023155e+08</td>\n",
       "      <td>64.622700</td>\n",
       "      <td>0.000009</td>\n",
       "      <td>47.317300</td>\n",
       "      <td>-342.210000</td>\n",
       "      <td>-581.178000</td>\n",
       "      <td>-1835.450000</td>\n",
       "      <td>42.048600</td>\n",
       "      <td>-395.124000</td>\n",
       "      <td>-426.243000</td>\n",
       "      <td>-1647.600000</td>\n",
       "      <td>120.93800</td>\n",
       "      <td>0.100445</td>\n",
       "      <td>0.000000</td>\n",
       "    </tr>\n",
       "    <tr>\n",
       "      <th>25%</th>\n",
       "      <td>3230.250000</td>\n",
       "      <td>148029.000000</td>\n",
       "      <td>462.000000</td>\n",
       "      <td>4.975961e+08</td>\n",
       "      <td>228.627000</td>\n",
       "      <td>0.007992</td>\n",
       "      <td>143.441500</td>\n",
       "      <td>-78.765575</td>\n",
       "      <td>-75.835350</td>\n",
       "      <td>-148.173000</td>\n",
       "      <td>125.559000</td>\n",
       "      <td>-62.800500</td>\n",
       "      <td>-62.669850</td>\n",
       "      <td>-150.168250</td>\n",
       "      <td>192.53450</td>\n",
       "      <td>8.544250</td>\n",
       "      <td>0.000000</td>\n",
       "    </tr>\n",
       "    <tr>\n",
       "      <th>50%</th>\n",
       "      <td>6459.500000</td>\n",
       "      <td>149181.000000</td>\n",
       "      <td>986.000000</td>\n",
       "      <td>9.708816e+08</td>\n",
       "      <td>289.674000</td>\n",
       "      <td>0.017122</td>\n",
       "      <td>210.133000</td>\n",
       "      <td>-2.394620</td>\n",
       "      <td>0.802189</td>\n",
       "      <td>-5.806435</td>\n",
       "      <td>200.595000</td>\n",
       "      <td>0.811811</td>\n",
       "      <td>-1.243045</td>\n",
       "      <td>-1.507775</td>\n",
       "      <td>222.59150</td>\n",
       "      <td>14.001950</td>\n",
       "      <td>0.000000</td>\n",
       "    </tr>\n",
       "    <tr>\n",
       "      <th>75%</th>\n",
       "      <td>9688.750000</td>\n",
       "      <td>149181.000000</td>\n",
       "      <td>999.000000</td>\n",
       "      <td>9.844653e+08</td>\n",
       "      <td>403.117500</td>\n",
       "      <td>0.031978</td>\n",
       "      <td>368.073500</td>\n",
       "      <td>77.834775</td>\n",
       "      <td>77.738075</td>\n",
       "      <td>134.158000</td>\n",
       "      <td>362.903750</td>\n",
       "      <td>63.217725</td>\n",
       "      <td>60.869675</td>\n",
       "      <td>148.800750</td>\n",
       "      <td>266.72050</td>\n",
       "      <td>21.009675</td>\n",
       "      <td>0.000000</td>\n",
       "    </tr>\n",
       "    <tr>\n",
       "      <th>max</th>\n",
       "      <td>12918.000000</td>\n",
       "      <td>149181.000000</td>\n",
       "      <td>1804.000000</td>\n",
       "      <td>1.703645e+09</td>\n",
       "      <td>2433.820000</td>\n",
       "      <td>0.726316</td>\n",
       "      <td>1849.800000</td>\n",
       "      <td>471.036000</td>\n",
       "      <td>442.558000</td>\n",
       "      <td>1609.590000</td>\n",
       "      <td>1843.360000</td>\n",
       "      <td>340.501000</td>\n",
       "      <td>483.755000</td>\n",
       "      <td>1830.370000</td>\n",
       "      <td>1078.12000</td>\n",
       "      <td>423.144000</td>\n",
       "      <td>2.000000</td>\n",
       "    </tr>\n",
       "  </tbody>\n",
       "</table>\n",
       "</div>"
      ],
      "text/plain": [
       "                 id            Run          Lumi         Event            MR  \\\n",
       "count  12918.000000   12918.000000  12918.000000  1.291800e+04  10335.000000   \n",
       "mean    6459.500000  148666.467023    900.238350  8.630379e+08    347.854846   \n",
       "std     3729.249723     595.880402    496.162612  4.785053e+08    189.854140   \n",
       "min        1.000000  147926.000000    388.000000  3.023155e+08     64.622700   \n",
       "25%     3230.250000  148029.000000    462.000000  4.975961e+08    228.627000   \n",
       "50%     6459.500000  149181.000000    986.000000  9.708816e+08    289.674000   \n",
       "75%     9688.750000  149181.000000    999.000000  9.844653e+08    403.117500   \n",
       "max    12918.000000  149181.000000   1804.000000  1.703645e+09   2433.820000   \n",
       "\n",
       "                Rsq            E1           Px1           Py1           Pz1  \\\n",
       "count  12918.000000  11627.000000  12918.000000  12918.000000  12918.000000   \n",
       "mean       0.023484    293.569329     -0.708367      0.678810    -10.904041   \n",
       "std        0.023320    221.136545     90.680332     90.189393    337.760002   \n",
       "min        0.000009     47.317300   -342.210000   -581.178000  -1835.450000   \n",
       "25%        0.007992    143.441500    -78.765575    -75.835350   -148.173000   \n",
       "50%        0.017122    210.133000     -2.394620      0.802189     -5.806435   \n",
       "75%        0.031978    368.073500     77.834775     77.738075    134.158000   \n",
       "max        0.726316   1849.800000    471.036000    442.558000   1609.590000   \n",
       "\n",
       "                 E2           Px2           Py2           Pz2           HT  \\\n",
       "count  12918.000000  12918.000000  12918.000000  12918.000000  12918.00000   \n",
       "mean     275.598779      0.344767     -0.911184     -1.341925    239.86144   \n",
       "std      207.764762     75.845564     75.034815    321.458725     74.43428   \n",
       "min       42.048600   -395.124000   -426.243000  -1647.600000    120.93800   \n",
       "25%      125.559000    -62.800500    -62.669850   -150.168250    192.53450   \n",
       "50%      200.595000      0.811811     -1.243045     -1.507775    222.59150   \n",
       "75%      362.903750     63.217725     60.869675    148.800750    266.72050   \n",
       "max     1843.360000    340.501000    483.755000   1830.370000   1078.12000   \n",
       "\n",
       "                MET        nBJets  \n",
       "count  12918.000000  12918.000000  \n",
       "mean      15.934446      0.055117  \n",
       "std       10.846317      0.239473  \n",
       "min        0.100445      0.000000  \n",
       "25%        8.544250      0.000000  \n",
       "50%       14.001950      0.000000  \n",
       "75%       21.009675      0.000000  \n",
       "max      423.144000      2.000000  "
      ]
     },
     "execution_count": 12,
     "metadata": {},
     "output_type": "execute_result"
    }
   ],
   "source": [
    "all_train.describe()"
   ]
  },
  {
   "cell_type": "code",
   "execution_count": 13,
   "id": "55482722",
   "metadata": {},
   "outputs": [
    {
     "data": {
      "image/png": "[encoded data removed]",
      "text/plain": [
       "<Figure size 1200x500 with 16 Axes>"
      ]
     },
     "metadata": {},
     "output_type": "display_data"
    }
   ],
   "source": [
    "num_cols = [col for col in all_train.columns[1:] if all_train[col].dtype != 'O']\n",
    "fig, axes = plt.subplots(4, 4, figsize=(12, 5))  # 4 rows, 4 columns\n",
    "axes = axes.flatten()\n",
    "\n",
    "for i, col_name in enumerate(num_cols):\n",
    "    axes[i].hist(all_train[col_name])\n",
    "    axes[i].set_title(f'Histogram of {col_name}')\n",
    "\n",
    "plt.tight_layout()\n",
    "plt.show()"
   ]
  },
  {
   "cell_type": "code",
   "execution_count": 14,
   "id": "b8dd4bd8",
   "metadata": {},
   "outputs": [
    {
     "name": "stdout",
     "output_type": "stream",
     "text": [
      "Run: 4\n",
      "nBJets: 3\n"
     ]
    }
   ],
   "source": [
    "for col in num_cols:\n",
    "    if all_train[col].nunique() <= 6:\n",
    "        print(f'{col}: {all_train[col].nunique()}')"
   ]
  },
  {
   "cell_type": "markdown",
   "id": "3303057a",
   "metadata": {},
   "source": [
    "3. Data Cleaning"
   ]
  },
  {
   "cell_type": "code",
   "execution_count": 15,
   "id": "37f6b9d5",
   "metadata": {},
   "outputs": [
    {
     "data": {
      "text/plain": [
       "id         0.000000\n",
       "Run        0.000000\n",
       "Lumi       0.000000\n",
       "Event      0.000000\n",
       "jets       0.000000\n",
       "MR        19.995355\n",
       "Rsq        0.000000\n",
       "E1         9.993807\n",
       "Px1        0.000000\n",
       "Py1        0.000000\n",
       "Pz1        0.000000\n",
       "E2         0.000000\n",
       "Px2        0.000000\n",
       "Py2        0.000000\n",
       "Pz2        0.000000\n",
       "HT         0.000000\n",
       "MET        0.000000\n",
       "nBJets     0.000000\n",
       "dtype: float64"
      ]
     },
     "execution_count": 15,
     "metadata": {},
     "output_type": "execute_result"
    }
   ],
   "source": [
    "# Checking for missing values\n",
    "(all_train.isnull().sum()/all_train.shape[0])*100"
   ]
  },
  {
   "cell_type": "code",
   "execution_count": 16,
   "id": "755420bc",
   "metadata": {},
   "outputs": [
    {
     "data": {
      "image/png": "[encoded data removed]",
      "text/plain": [
       "<Figure size 1200x500 with 2 Axes>"
      ]
     },
     "metadata": {},
     "output_type": "display_data"
    }
   ],
   "source": [
    "missing_value_cols = ['MR', 'E1']\n",
    "\n",
    "fig, axes = plt.subplots(1, 2, figsize=(12, 5))  # 1 row, 2 columns\n",
    "\n",
    "for i, col_name in enumerate(missing_value_cols):\n",
    "    axes[i].hist(all_train[col_name])\n",
    "    axes[i].set_title(f'Histogram of {col_name}')\n",
    "\n",
    "plt.tight_layout()\n",
    "plt.show()"
   ]
  },
  {
   "cell_type": "markdown",
   "id": "e325c281",
   "metadata": {},
   "source": [
    "Since both the variables `MR` & `E1` are skewed, a log transformation can be carried out to make them normal-like, followed by a mean imputation to fill missing values. "
   ]
  },
  {
   "cell_type": "code",
   "execution_count": 17,
   "id": "e5f2d414",
   "metadata": {},
   "outputs": [],
   "source": [
    "# Log transformation \n",
    "all_train['MR'] = np.log10(all_train['MR'])\n",
    "all_train['E1'] = np.log10(all_train['E1'])\n"
   ]
  },
  {
   "cell_type": "code",
   "execution_count": 18,
   "id": "5c472c19",
   "metadata": {},
   "outputs": [
    {
     "data": {
      "image/png": "[encoded data removed]",
      "text/plain": [
       "<Figure size 1200x500 with 2 Axes>"
      ]
     },
     "metadata": {},
     "output_type": "display_data"
    }
   ],
   "source": [
    "# Plot after transformation \n",
    "fig, axes = plt.subplots(1, 2, figsize=(12, 5))  # 1 row, 2 columns\n",
    "\n",
    "for i, col_name in enumerate(missing_value_cols):\n",
    "    axes[i].hist(all_train[col_name])\n",
    "    axes[i].set_title(f'Histogram of {col_name}')\n",
    "\n",
    "plt.tight_layout()\n",
    "plt.show()"
   ]
  },
  {
   "cell_type": "code",
   "execution_count": 19,
   "id": "75604ef3",
   "metadata": {},
   "outputs": [
    {
     "data": {
      "text/plain": [
       "id         0.000000\n",
       "Run        0.000000\n",
       "Lumi       0.000000\n",
       "Event      0.000000\n",
       "MR        19.993034\n",
       "Rsq        0.000000\n",
       "E1         9.984907\n",
       "Px1        0.000000\n",
       "Py1        0.000000\n",
       "Pz1        0.000000\n",
       "E2         0.000000\n",
       "Px2        0.000000\n",
       "Py2        0.000000\n",
       "Pz2        0.000000\n",
       "HT         0.000000\n",
       "MET        0.000000\n",
       "nBJets     0.000000\n",
       "dtype: float64"
      ]
     },
     "execution_count": 19,
     "metadata": {},
     "output_type": "execute_result"
    }
   ],
   "source": [
    "# Checking for missing values on the test dataset\n",
    "(all_test.isnull().sum()/all_test.shape[0])*100"
   ]
  },
  {
   "cell_type": "code",
   "execution_count": 20,
   "id": "0419aeb2",
   "metadata": {},
   "outputs": [],
   "source": [
    "# Imputing the Missing values with the mean value\n",
    "imp_median = SimpleImputer(missing_values=np.nan, strategy='mean')\n",
    "all_train[['E1', 'MR']] = imp_median.fit_transform(all_train[['E1', 'MR']])\n",
    "\n",
    "all_test['MR'] = np.log10(all_test['MR'])\n",
    "all_test['E1'] = np.log10(all_test['E1'])\n",
    "all_test[['E1', 'MR']] = imp_median.transform(all_test[['E1', 'MR']])"
   ]
  },
  {
   "cell_type": "markdown",
   "id": "b685c7ac",
   "metadata": {},
   "source": [
    "4. Feature Engineering"
   ]
  },
  {
   "cell_type": "code",
   "execution_count": 21,
   "id": "31d031ff",
   "metadata": {},
   "outputs": [],
   "source": [
    "from sklearn.preprocessing import OneHotEncoder"
   ]
  },
  {
   "cell_type": "code",
   "execution_count": 22,
   "id": "e0518980",
   "metadata": {},
   "outputs": [],
   "source": [
    "def create_buckets(data, cols, buckets = None): \n",
    "    if buckets is None: \n",
    "        for col in cols:\n",
    "            data[col], buckets = pd.qcut(data[col], q=4, labels=['Q1', 'Q2', 'Q3', 'Q4'], retbins=True, precision=0)\n",
    "        return data, buckets\n",
    "    else:\n",
    "        for col in cols:\n",
    "            data[col] = pd.cut(data[col], bins=buckets, labels=['Q1', 'Q2', 'Q3', 'Q4'], include_lowest=True)\n",
    "        return data\n",
    "\n",
    "col_to_bucket = ['Lumi']\n",
    "train_bucketed, buckets = create_buckets(all_train, col_to_bucket)\n",
    "test_bucketed = create_buckets(all_test, col_to_bucket, buckets)"
   ]
  },
  {
   "cell_type": "code",
   "execution_count": 23,
   "id": "82577caa",
   "metadata": {},
   "outputs": [],
   "source": [
    "def convert_to_categorical(data, cols, train = True): \n",
    "    if train:\n",
    "         ohe_encoder = OneHotEncoder(sparse_output=False, drop='first')\n",
    "         encoded_data = ohe_encoder.fit_transform(data[cols])\n",
    "         dump(ohe_encoder, open('encoder.pkl', 'wb'))\n",
    "    else:\n",
    "         ohe_encoder = load(open('encoder.pkl', 'rb'))\n",
    "         encoded_data = ohe_encoder.transform(data[cols])   \n",
    "        \n",
    "    column_names = ohe_encoder.get_feature_names_out(input_features=cols)\n",
    "    encoded_df = pd.DataFrame(encoded_data, columns=column_names)\n",
    "    data = data.drop(cols, axis=1)\n",
    "    df = pd.concat([data, encoded_df], axis=1)\n",
    "    \n",
    "    return df"
   ]
  },
  {
   "cell_type": "code",
   "execution_count": 24,
   "id": "18350da6",
   "metadata": {},
   "outputs": [],
   "source": [
    "cols_to_encode = ['Run', 'nBJets', 'Lumi']\n",
    "train_cat_encoded = convert_to_categorical(train_bucketed, cols_to_encode, train = True)\n",
    "test_cat_encoded = convert_to_categorical(test_bucketed, cols_to_encode, train = False)"
   ]
  },
  {
   "cell_type": "code",
   "execution_count": 25,
   "id": "b326e12d",
   "metadata": {},
   "outputs": [],
   "source": [
    "# Categorical Encoding for the train set \n",
    "factor = pd.factorize(train_cat_encoded[\"jets\"])\n",
    "train_cat_encoded[\"jets\"] = factor[0]\n",
    "defs = factor[1]"
   ]
  },
  {
   "cell_type": "markdown",
   "id": "07190f49",
   "metadata": {},
   "source": [
    "5. Model Building"
   ]
  },
  {
   "cell_type": "code",
   "execution_count": 26,
   "id": "1d0ed9fa",
   "metadata": {},
   "outputs": [],
   "source": [
    "from sklearn.model_selection import train_test_split\n",
    "\n",
    "X = train_cat_encoded.drop([\"jets\", \"id\"], axis=1)\n",
    "y = train_cat_encoded['jets']\n",
    "X_train, X_valid, y_train, y_valid = train_test_split(X,y, test_size=0.3, random_state=42)"
   ]
  },
  {
   "cell_type": "code",
   "execution_count": 27,
   "id": "9d0bf509",
   "metadata": {},
   "outputs": [],
   "source": [
    "from sklearn.preprocessing import StandardScaler\n",
    "from sklearn.ensemble import RandomForestClassifier\n",
    "from sklearn.metrics import accuracy_score\n",
    "\n",
    "scaler = StandardScaler()\n",
    "X_train = scaler.fit_transform(X_train)\n",
    "X_valid = scaler.transform(X_valid)"
   ]
  },
  {
   "cell_type": "code",
   "execution_count": 28,
   "id": "0bb20cbe",
   "metadata": {},
   "outputs": [
    {
     "data": {
      "text/plain": [
       "0.7649638802889577"
      ]
     },
     "execution_count": 28,
     "metadata": {},
     "output_type": "execute_result"
    }
   ],
   "source": [
    "clf = RandomForestClassifier(n_estimators = 500, criterion = \"entropy\")\n",
    "clf.fit(X_train, y_train)\n",
    "preds = clf.predict(X_valid)\n",
    "accuracy_score(preds, y_valid)"
   ]
  },
  {
   "cell_type": "markdown",
   "id": "084321cb",
   "metadata": {},
   "source": [
    "6. Model Evaluation"
   ]
  },
  {
   "cell_type": "code",
   "execution_count": 33,
   "id": "03dae42e",
   "metadata": {},
   "outputs": [
    {
     "name": "stdout",
     "output_type": "stream",
     "text": [
      "              precision    recall  f1-score   support\n",
      "\n",
      "           0       0.49      0.65      0.55       832\n",
      "           1       0.10      0.47      0.16        45\n",
      "           2       0.94      0.80      0.87      2999\n",
      "\n",
      "    accuracy                           0.76      3876\n",
      "   macro avg       0.51      0.64      0.53      3876\n",
      "weighted avg       0.83      0.76      0.79      3876\n",
      "\n"
     ]
    }
   ],
   "source": [
    "from sklearn.metrics import confusion_matrix, classification_report, precision_score, recall_score, f1_score\n",
    "\n",
    "print(classification_report(preds, y_valid))\n"
   ]
  },
  {
   "cell_type": "code",
   "execution_count": 35,
   "id": "75d548fb",
   "metadata": {},
   "outputs": [
    {
     "name": "stdout",
     "output_type": "stream",
     "text": [
      "Macro-averaged precision: 0.5083764835885726\n",
      "Macro-averaged recall: 0.6382334086433369\n",
      "Macro-averaged F1-score: 0.5272960759512362\n",
      "\n",
      "Micro-averaged precision: 0.7649638802889577\n",
      "Micro-averaged recall: 0.7649638802889577\n",
      "Micro-averaged F1-score: 0.7649638802889577\n"
     ]
    }
   ],
   "source": [
    "precision_macro = precision_score(preds, y_valid, average='macro')\n",
    "recall_macro = recall_score(preds, y_valid, average='macro')\n",
    "f1_macro = f1_score(preds, y_valid, average='macro')\n",
    "\n",
    "precision_micro = precision_score(preds, y_valid, average='micro')\n",
    "recall_micro = recall_score(preds, y_valid, average='micro')\n",
    "f1_micro = f1_score(preds, y_valid, average='micro')\n",
    "\n",
    "print('Macro-averaged precision:', precision_macro)\n",
    "print('Macro-averaged recall:', recall_macro)\n",
    "print('Macro-averaged F1-score:', f1_macro)\n",
    "\n",
    "print('\\nMicro-averaged precision:', precision_micro)\n",
    "print('Micro-averaged recall:', recall_micro)\n",
    "print('Micro-averaged F1-score:', f1_micro)"
   ]
  },
  {
   "cell_type": "markdown",
   "id": "44cc6de2",
   "metadata": {},
   "source": [
    "7. Model Improvement "
   ]
  },
  {
   "cell_type": "code",
   "execution_count": 48,
   "id": "d8599b56",
   "metadata": {},
   "outputs": [
    {
     "name": "stdout",
     "output_type": "stream",
     "text": [
      "Best Hyperparameters: {'max_depth': 20, 'min_samples_leaf': 1, 'min_samples_split': 5, 'n_estimators': 1000}\n",
      "Best Score (Accuracy): 0.7522638161209685\n"
     ]
    }
   ],
   "source": [
    "import numpy as np\n",
    "from sklearn.model_selection import GridSearchCV\n",
    "from sklearn.ensemble import RandomForestClassifier\n",
    "from sklearn.datasets import load_iris\n",
    "\n",
    "\n",
    "\n",
    "# Define a grid of hyperparameters to search through\n",
    "param_grid = {\n",
    "    'n_estimators': [250, 500, 750, 1000],  # Number of trees in the forest\n",
    "    'max_depth': [None, 10, 20, 30],  # Maximum depth of each tree\n",
    "    'min_samples_split': [2, 5, 10],  # Minimum number of samples required to split a node\n",
    "    'min_samples_leaf': [1, 2, 4],  # Minimum number of samples required at each leaf node\n",
    "}\n",
    "\n",
    "# Create GridSearchCV object with the classifier and parameter grid\n",
    "grid_search = GridSearchCV(estimator=clf, param_grid=param_grid, cv=5, n_jobs=-1)\n",
    "\n",
    "# Fit the GridSearchCV to your data\n",
    "grid_search.fit(X_train, y_train)\n",
    "\n",
    "# Print the best hyperparameters and corresponding accuracy score\n",
    "best_params = grid_search.best_params_\n",
    "best_score = grid_search.best_score_\n",
    "print(\"Best Hyperparameters:\", best_params)\n",
    "print(\"Best Score (Accuracy):\", best_score)\n"
   ]
  },
  {
   "cell_type": "code",
   "execution_count": 50,
   "id": "d74fb23b",
   "metadata": {},
   "outputs": [
    {
     "name": "stdout",
     "output_type": "stream",
     "text": [
      "              precision    recall  f1-score   support\n",
      "\n",
      "           0       0.49      0.65      0.56       840\n",
      "           1       0.08      0.55      0.14        33\n",
      "           2       0.94      0.80      0.87      3003\n",
      "\n",
      "    accuracy                           0.77      3876\n",
      "   macro avg       0.51      0.67      0.52      3876\n",
      "weighted avg       0.84      0.77      0.79      3876\n",
      "\n"
     ]
    }
   ],
   "source": [
    "preds = grid_search.predict(X_valid)\n",
    "print(classification_report(preds, y_valid))"
   ]
  },
  {
   "cell_type": "code",
   "execution_count": null,
   "id": "c16a47c2",
   "metadata": {},
   "outputs": [],
   "source": []
  }
 ],
 "metadata": {
  "kernelspec": {
   "display_name": "Python 3 (ipykernel)",
   "language": "python",
   "name": "python3"
  },
  "language_info": {
   "codemirror_mode": {
    "name": "ipython",
    "version": 3
   },
   "file_extension": ".py",
   "mimetype": "text/x-python",
   "name": "python",
   "nbconvert_exporter": "python",
   "pygments_lexer": "ipython3",
   "version": "3.9.18"
  }
 },
 "nbformat": 4,
 "nbformat_minor": 5
}
